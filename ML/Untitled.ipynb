{
 "cells": [
  {
   "cell_type": "code",
   "execution_count": 1,
   "metadata": {
    "collapsed": true
   },
   "outputs": [],
   "source": [
    "import pandas as pd\n",
    "import pickle\n",
    "from keras.models import Sequential\n",
    "from keras.layers.core import Dense, Dropout\n",
    "from keras.layers.normalization import BatchNormalization\n",
    "from keras.optimizers import SGD\n",
    "from keras.utils.np_utils import to_categorical\n",
    "from sklearn.cross_validation import train_test_split"
   ]
  },
  {
   "cell_type": "code",
   "execution_count": 2,
   "metadata": {
    "collapsed": true
   },
   "outputs": [],
   "source": [
    "data = pd.read_csv('test_data_041816.csv')\n",
    "X = data.iloc[:, :-1].values\n",
    "y = data.iloc[:, -1].values\n",
    "X_train, X_test, y_train, y_test = train_test_split(X, y, test_size=0.2)\n",
    "y_train_ohe = to_categorical(y_train)"
   ]
  },
  {
   "cell_type": "code",
   "execution_count": null,
   "metadata": {
    "collapsed": false
   },
   "outputs": [
    {
     "name": "stderr",
     "output_type": "stream",
     "text": [
      "/usr/lib/python3.5/site-packages/keras/models.py:385: UserWarning: The \"show_accuracy\" argument is deprecated, instead you should pass the \"accuracy\" metric to the model at compile time:\n",
      "`model.compile(optimizer, loss, metrics=[\"accuracy\"])`\n",
      "  warnings.warn('The \"show_accuracy\" argument is deprecated, '\n"
     ]
    },
    {
     "name": "stdout",
     "output_type": "stream",
     "text": [
      "Train on 3028 samples, validate on 337 samples\n",
      "Epoch 1/10000\n",
      "3028/3028 [==============================] - 0s - loss: 1.0324 - acc: 0.5849 - val_loss: 0.5752 - val_acc: 0.7745\n",
      "Epoch 2/10000\n",
      "3028/3028 [==============================] - 0s - loss: 0.5518 - acc: 0.7956 - val_loss: 0.4370 - val_acc: 0.8457\n",
      "Epoch 3/10000\n",
      "3028/3028 [==============================] - 0s - loss: 0.4648 - acc: 0.8161 - val_loss: 0.4073 - val_acc: 0.8398\n",
      "Epoch 4/10000\n",
      "3028/3028 [==============================] - 0s - loss: 0.4516 - acc: 0.8075 - val_loss: 0.3394 - val_acc: 0.8605\n",
      "Epoch 5/10000\n",
      "3028/3028 [==============================] - 0s - loss: 0.3914 - acc: 0.8369 - val_loss: 0.2552 - val_acc: 0.9466\n",
      "Epoch 6/10000\n",
      "3028/3028 [==============================] - 0s - loss: 0.3551 - acc: 0.8378 - val_loss: 0.2211 - val_acc: 0.9644\n",
      "Epoch 7/10000\n",
      "3028/3028 [==============================] - 0s - loss: 0.3047 - acc: 0.8686 - val_loss: 0.2347 - val_acc: 0.8902\n",
      "Epoch 8/10000\n",
      "3028/3028 [==============================] - 0s - loss: 0.3593 - acc: 0.8392 - val_loss: 0.2209 - val_acc: 0.9466\n",
      "Epoch 9/10000\n",
      "3028/3028 [==============================] - 0s - loss: 0.3036 - acc: 0.8696 - val_loss: 0.2177 - val_acc: 0.8427\n",
      "Epoch 10/10000\n",
      "3028/3028 [==============================] - 0s - loss: 0.3583 - acc: 0.8405 - val_loss: 0.2245 - val_acc: 0.9258\n",
      "Epoch 11/10000\n",
      "3028/3028 [==============================] - 0s - loss: 0.3069 - acc: 0.8616 - val_loss: 0.1330 - val_acc: 0.9763\n",
      "Epoch 12/10000\n",
      "3028/3028 [==============================] - 0s - loss: 0.2367 - acc: 0.8963 - val_loss: 0.1023 - val_acc: 0.9911\n",
      "Epoch 13/10000\n",
      "3028/3028 [==============================] - 0s - loss: 0.2420 - acc: 0.8930 - val_loss: 0.1266 - val_acc: 0.9614\n",
      "Epoch 14/10000\n",
      "3028/3028 [==============================] - 0s - loss: 0.2377 - acc: 0.8976 - val_loss: 0.1232 - val_acc: 0.9674\n",
      "Epoch 15/10000\n",
      "3028/3028 [==============================] - 0s - loss: 0.2183 - acc: 0.9055 - val_loss: 0.0949 - val_acc: 0.9911\n",
      "Epoch 16/10000\n",
      "3028/3028 [==============================] - 0s - loss: 0.2639 - acc: 0.8927 - val_loss: 0.0887 - val_acc: 0.9822\n",
      "Epoch 17/10000\n",
      "3028/3028 [==============================] - 0s - loss: 0.4551 - acc: 0.8118 - val_loss: 0.1106 - val_acc: 0.9496\n",
      "Epoch 18/10000\n",
      "3028/3028 [==============================] - 0s - loss: 0.2540 - acc: 0.8973 - val_loss: 0.1859 - val_acc: 0.8665\n",
      "Epoch 19/10000\n",
      "3028/3028 [==============================] - 0s - loss: 0.2467 - acc: 0.8976 - val_loss: 0.0674 - val_acc: 0.9941\n",
      "Epoch 20/10000\n",
      "3028/3028 [==============================] - 0s - loss: 0.2242 - acc: 0.9224 - val_loss: 0.0990 - val_acc: 0.9822\n",
      "Epoch 21/10000\n",
      "3028/3028 [==============================] - 0s - loss: 0.2396 - acc: 0.8986 - val_loss: 0.0703 - val_acc: 0.9911\n",
      "Epoch 22/10000\n",
      "3028/3028 [==============================] - 0s - loss: 0.2579 - acc: 0.8963 - val_loss: 0.0944 - val_acc: 0.9377\n",
      "Epoch 23/10000\n",
      "3028/3028 [==============================] - 0s - loss: 0.2585 - acc: 0.8917 - val_loss: 0.1346 - val_acc: 0.9377\n",
      "Epoch 24/10000\n",
      "3028/3028 [==============================] - 0s - loss: 0.2520 - acc: 0.8907 - val_loss: 0.2078 - val_acc: 0.8961\n",
      "Epoch 25/10000\n",
      "3028/3028 [==============================] - 0s - loss: 0.2890 - acc: 0.8887 - val_loss: 0.1956 - val_acc: 0.8605\n",
      "Epoch 26/10000\n",
      "3028/3028 [==============================] - 0s - loss: 0.2997 - acc: 0.8755 - val_loss: 0.1001 - val_acc: 0.9614\n",
      "Epoch 27/10000\n",
      "3028/3028 [==============================] - 0s - loss: 0.2709 - acc: 0.8933 - val_loss: 0.1093 - val_acc: 0.9377\n",
      "Epoch 28/10000\n",
      "3028/3028 [==============================] - 0s - loss: 0.2566 - acc: 0.8874 - val_loss: 0.1316 - val_acc: 0.9585\n",
      "Epoch 29/10000\n",
      "3028/3028 [==============================] - 0s - loss: 0.3236 - acc: 0.8613 - val_loss: 0.1442 - val_acc: 0.9318\n",
      "Epoch 30/10000\n",
      "3028/3028 [==============================] - 0s - loss: 0.1993 - acc: 0.9306 - val_loss: 0.1331 - val_acc: 0.9377\n",
      "Epoch 31/10000\n",
      "3028/3028 [==============================] - 0s - loss: 0.2417 - acc: 0.8999 - val_loss: 0.0773 - val_acc: 0.9852\n",
      "Epoch 32/10000\n",
      "3028/3028 [==============================] - 0s - loss: 0.2441 - acc: 0.8983 - val_loss: 0.2686 - val_acc: 0.8457\n",
      "Epoch 33/10000\n",
      "3028/3028 [==============================] - 0s - loss: 0.2539 - acc: 0.8983 - val_loss: 0.1391 - val_acc: 0.9733\n",
      "Epoch 34/10000\n",
      "3028/3028 [==============================] - 0s - loss: 0.2215 - acc: 0.9112 - val_loss: 0.0857 - val_acc: 0.9733\n",
      "Epoch 35/10000\n",
      "3028/3028 [==============================] - 0s - loss: 0.1837 - acc: 0.9326 - val_loss: 0.0799 - val_acc: 0.9881\n",
      "Epoch 36/10000\n",
      "3028/3028 [==============================] - 0s - loss: 0.2630 - acc: 0.8890 - val_loss: 0.1494 - val_acc: 0.9288\n",
      "Epoch 37/10000\n",
      "3028/3028 [==============================] - 0s - loss: 0.1743 - acc: 0.9366 - val_loss: 0.0732 - val_acc: 0.9703\n",
      "Epoch 38/10000\n",
      "3028/3028 [==============================] - 0s - loss: 0.1989 - acc: 0.9211 - val_loss: 0.0563 - val_acc: 0.9970\n",
      "Epoch 39/10000\n",
      "3028/3028 [==============================] - 0s - loss: 0.2272 - acc: 0.9138 - val_loss: 0.1165 - val_acc: 0.9614\n",
      "Epoch 40/10000\n",
      "3028/3028 [==============================] - 0s - loss: 0.2448 - acc: 0.9052 - val_loss: 0.1996 - val_acc: 0.8694\n",
      "Epoch 41/10000\n",
      "3028/3028 [==============================] - 0s - loss: 0.2336 - acc: 0.9019 - val_loss: 0.0934 - val_acc: 0.9763\n",
      "Epoch 42/10000\n",
      "3028/3028 [==============================] - 0s - loss: 0.1893 - acc: 0.9280 - val_loss: 0.1189 - val_acc: 0.9318\n",
      "Epoch 43/10000\n",
      "3028/3028 [==============================] - 0s - loss: 0.2134 - acc: 0.9148 - val_loss: 0.1279 - val_acc: 0.9496\n",
      "Epoch 44/10000\n",
      "3028/3028 [==============================] - 0s - loss: 0.2582 - acc: 0.8963 - val_loss: 0.1029 - val_acc: 0.9911\n",
      "Epoch 45/10000\n",
      "3028/3028 [==============================] - 0s - loss: 0.1741 - acc: 0.9313 - val_loss: 0.0709 - val_acc: 0.9763\n",
      "Epoch 46/10000\n",
      "3028/3028 [==============================] - 0s - loss: 0.2242 - acc: 0.9158 - val_loss: 0.1454 - val_acc: 0.9258\n",
      "Epoch 47/10000\n",
      "3028/3028 [==============================] - 0s - loss: 0.2455 - acc: 0.9009 - val_loss: 0.0784 - val_acc: 0.9585\n",
      "Epoch 48/10000\n",
      "3028/3028 [==============================] - 0s - loss: 0.2277 - acc: 0.9079 - val_loss: 0.1430 - val_acc: 0.9407\n",
      "Epoch 49/10000\n",
      "3028/3028 [==============================] - 0s - loss: 0.2431 - acc: 0.9075 - val_loss: 0.1231 - val_acc: 0.9525\n",
      "Epoch 50/10000\n",
      "3028/3028 [==============================] - 0s - loss: 0.1839 - acc: 0.9277 - val_loss: 0.0517 - val_acc: 0.9941\n",
      "Epoch 51/10000\n",
      "3028/3028 [==============================] - 0s - loss: 0.2423 - acc: 0.9006 - val_loss: 0.1434 - val_acc: 0.9228\n",
      "Epoch 52/10000\n",
      "3028/3028 [==============================] - 0s - loss: 0.2446 - acc: 0.8980 - val_loss: 0.1031 - val_acc: 0.9733\n",
      "Epoch 53/10000\n",
      "3028/3028 [==============================] - 0s - loss: 0.2295 - acc: 0.9125 - val_loss: 0.2687 - val_acc: 0.9050\n",
      "Epoch 54/10000\n",
      "3028/3028 [==============================] - 0s - loss: 0.2303 - acc: 0.9122 - val_loss: 0.1359 - val_acc: 0.9347\n",
      "Epoch 55/10000\n",
      "1344/3028 [============>.................] - ETA: 0s - loss: 0.1947 - acc: 0.9226"
     ]
    }
   ],
   "source": [
    "model = Sequential()\n",
    "model.add(BatchNormalization(input_shape=(X_train.shape[1],)))\n",
    "model.add(Dense(output_dim=500, activation='tanh', init='uniform'))\n",
    "model.add(Dense(output_dim=350, activation='tanh', init='uniform'))\n",
    "model.add(Dense(output_dim=200, activation='tanh', init='uniform'))\n",
    "model.add(Dense(output_dim=50, activation='tanh', init='uniform'))\n",
    "model.add(Dropout(0.2))\n",
    "model.add(Dense(output_dim=y_train_ohe.shape[1], activation='softmax', init='uniform'))\n",
    "\n",
    "sgd = SGD(lr=0.01, decay=1e-6, momentum=0.95)\n",
    "model.compile(loss='categorical_crossentropy', optimizer=sgd, metrics=[\"accuracy\"])\n",
    "\n",
    "model.fit(X_train, y_train_ohe, show_accuracy=True, nb_epoch=10000, validation_split=0.1)"
   ]
  }
 ],
 "metadata": {
  "kernelspec": {
   "display_name": "Python 3",
   "language": "python",
   "name": "python3"
  },
  "language_info": {
   "codemirror_mode": {
    "name": "ipython",
    "version": 3
   },
   "file_extension": ".py",
   "mimetype": "text/x-python",
   "name": "python",
   "nbconvert_exporter": "python",
   "pygments_lexer": "ipython3",
   "version": "3.5.1"
  }
 },
 "nbformat": 4,
 "nbformat_minor": 0
}
